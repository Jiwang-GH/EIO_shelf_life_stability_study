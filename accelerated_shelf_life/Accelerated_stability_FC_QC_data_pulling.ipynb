{
 "cells": [
  {
   "cell_type": "code",
   "execution_count": 2,
   "id": "ce15cc66-3e17-463d-95eb-cf1872bd6641",
   "metadata": {},
   "outputs": [
    {
     "data": {
      "text/html": [
       "<style>.container { width:100% !important; }</style>"
      ],
      "text/plain": [
       "<IPython.core.display.HTML object>"
      ]
     },
     "metadata": {},
     "output_type": "display_data"
    }
   ],
   "source": [
    "from IPython.core.display import display, HTML\n",
    "import pandas as pd\n",
    "import numpy as np\n",
    "import os\n",
    "import re\n",
    "import json\n",
    "import psycopg2\n",
    "from datetime import date\n",
    "import presto  # import prestosql python client\n",
    "import warnings\n",
    "from requests.packages.urllib3.exceptions import InsecureRequestWarning\n",
    "warnings.simplefilter('ignore', InsecureRequestWarning)\n",
    "display(HTML(\"<style>.container { width:100% !important; }</style>\"))\n",
    "pd.options.display.max_columns = None"
   ]
  },
  {
   "cell_type": "code",
   "execution_count": 3,
   "id": "60b03dff-59a0-4096-b454-31da88839f9c",
   "metadata": {},
   "outputs": [],
   "source": [
    "## connect to cluster\n",
    "uid = \"_svc_acs_presto\"\n",
    "pwd = \"em6qF7Gp8E9ECYcKx3gHZ#v$H@pzT7AX3uCJp%5wesKE%VD6gZaCB8*rZ2zNgMKdPkuetSJph2H&H2eadbfCkeB3tBbUqcM^Sj5k\"\n",
    "\n",
    "conn = presto.dbapi.connect(\n",
    "    host='acs-exports.bi.ghdna.io',\n",
    "    port=8446,\n",
    "    user='_svc_acs_presto',\n",
    "    catalog='hive',\n",
    "    schema='default',\n",
    "    http_scheme='https',\n",
    "    verify=False,\n",
    "    auth=presto.auth.BasicAuthentication(uid, pwd)\n",
    ")\n",
    "cur = conn.cursor()"
   ]
  },
  {
   "cell_type": "markdown",
   "id": "74b14e2d-4ae1-450a-b9e1-2267c5d925db",
   "metadata": {},
   "source": [
    "## Query Flowcell QC and sequencer information for each flowcell "
   ]
  },
  {
   "cell_type": "code",
   "execution_count": null,
   "id": "01f2fa90-5ba9-45f6-9025-e0ef8b1ef019",
   "metadata": {},
   "outputs": [],
   "source": [
    "vw_batch_query = '''\n",
    "select \n",
    "acs_instance,\n",
    "connection_id,\n",
    "inventory_id as flowcell_id,\n",
    "name as batch_name\n",
    "from vw_batch \n",
    "'''\n",
    "\n",
    "vw_batch = []\n",
    "for r in cur.execute(vw_batch_query):\n",
    "     vw_batch.append(r)\n",
    "        \n",
    "colnames = [desc[0] for desc in cur.description]\n",
    "vw_batch_df = pd.DataFrame(vw_batch, columns=colnames)\n",
    "\n",
    "\n",
    "flowcell_query = '''\n",
    "select \n",
    "acs_instance,\n",
    "flowcell_id,\n",
    "product,\n",
    "sequencer_name,\n",
    "created\n",
    "from vw_flowcell \n",
    "ORDER BY created DESC\n",
    "'''\n",
    "\n",
    "vw_flowcell = []\n",
    "for r in cur.execute(flowcell_query):\n",
    "     vw_flowcell.append(r)\n",
    "        \n",
    "colnames = [desc[0] for desc in cur.description]\n",
    "flowcell_df = pd.DataFrame(vw_flowcell, columns=colnames)\n",
    "\n",
    "flowcell_df['created'] = pd.to_datetime(flowcell_df['created'])\n",
    "flowcell_df['pacific_time'] = flowcell_df['created'].dt.tz_convert('US/Pacific')\n",
    "\n",
    "\n",
    "def get_conn(db): \n",
    "    conn = psycopg2.connect(db)\n",
    "    return conn\n",
    "\n",
    "def get_cursor(conn):\n",
    "    cursor = conn.cursor()\n",
    "    return cursor\n",
    "\n",
    "def statement_to_df(cursor):\n",
    "    df = pd.DataFrame(cursor.fetchall(),columns = [i[0] for i in cursor.description])\n",
    "    return df\n",
    "\n",
    "prod = \"host='10.4.170.26' dbname='ghdb' user='admin' password='N7Tks0xPS'\" \n",
    "\n",
    "\n",
    "GHDB_prod_conn = get_conn(prod)\n",
    "GHDB_prod_cursor = get_cursor(GHDB_prod_conn)\n",
    "\n",
    "query = '''\n",
    "SELECT DISTINCT\n",
    "*\n",
    "FROM qc_seq\n",
    "'''\n",
    "\n",
    "GHDB_prod_cursor.execute(query, )\n",
    "df = statement_to_df(GHDB_prod_cursor)\n",
    "\n",
    "\n",
    "df['flowcell_id'] = df['runid'].str.split('_').str[3].str.slice(1,10)\n",
    "\n",
    "flowcell_df_merge = flowcell_df.merge(df, on = ['flowcell_id'], how = 'inner')\n",
    "flowcell_df_merge = flowcell_df_merge[flowcell_df_merge['sequencer_name'].notnull()]\n",
    "flowcell_df_merge = flowcell_df_merge.merge(vw_batch_df, on = ['flowcell_id', 'acs_instance'], how = 'inner')\n",
    "\n",
    "\n",
    "## Save the data into csv file on HPC\n",
    "todaydate = date.today()\n",
    "todaydate_ref = todaydate.strftime(\"%Y%m%d\")\n",
    "\n",
    "file_path = '/ghds/groups/labdesk/jiwang/analysis/acs_exports/'\n",
    "file_name = '_omni_g360_flowcells.csv'\n",
    "flowcell_df_merge.to_csv(file_path + todaydate_ref + file_name, index=False)"
   ]
  }
 ],
 "metadata": {
  "kernelspec": {
   "display_name": "my_environment",
   "language": "python",
   "name": "my_environment"
  },
  "language_info": {
   "codemirror_mode": {
    "name": "ipython",
    "version": 3
   },
   "file_extension": ".py",
   "mimetype": "text/x-python",
   "name": "python",
   "nbconvert_exporter": "python",
   "pygments_lexer": "ipython3",
   "version": "3.7.11"
  }
 },
 "nbformat": 4,
 "nbformat_minor": 5
}
